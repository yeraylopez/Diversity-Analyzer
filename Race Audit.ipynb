{
 "cells": [
  {
   "cell_type": "markdown",
   "metadata": {},
   "source": [
    "# Race Audit (based on 2010 Census data collected)"
   ]
  },
  {
   "cell_type": "code",
   "execution_count": 7,
   "metadata": {},
   "outputs": [],
   "source": [
    "# add path for python modules, this was needed for me since my venv didn't include my pip libraries\n",
    "import sys\n",
    "sys.path.append('c:\\\\users\\\\yeray lopez\\\\envs\\\\ssi_dni\\\\lib\\\\site-packages')"
   ]
  },
  {
   "cell_type": "markdown",
   "metadata": {},
   "source": [
    "## Import modules"
   ]
  },
  {
   "cell_type": "code",
   "execution_count": 8,
   "metadata": {},
   "outputs": [],
   "source": [
    "from ethnicolr import census_ln, pred_census_ln\n",
    "from nameparser import HumanName\n",
    "import pandas as pd\n",
    "from pandas import DataFrame\n",
    "import numpy as np\n",
    "pd.set_option('display.max_rows', None)\n",
    "from numpy.random import choice\n",
    "import matplotlib.pyplot as plt"
   ]
  },
  {
   "cell_type": "markdown",
   "metadata": {},
   "source": [
    "## Execute this cell if full names need to be parsed (if not skip) "
   ]
  },
  {
   "cell_type": "code",
   "execution_count": 9,
   "metadata": {},
   "outputs": [],
   "source": [
    "# Import list of full names\n",
    "df = pd.read_csv(\"full_names_dummy_data.csv\") # Enter path to desired CSV of full names here\n",
    "df = df[['full_name']].copy()\n",
    "df['first_name'] = df['full_name'].apply(lambda name: HumanName(name).first)\n",
    "df['last_name'] = df['full_name'].apply(lambda name: HumanName(name).last)\n",
    "df.to_csv('Parsed_Names.csv', index=False)"
   ]
  },
  {
   "cell_type": "markdown",
   "metadata": {},
   "source": [
    "## Perform Race detection using ethnicolor \n",
    "## Import desired CSV that is formatted with \"last_name\" column"
   ]
  },
  {
   "cell_type": "code",
   "execution_count": 10,
   "metadata": {},
   "outputs": [],
   "source": [
    "#Import desired CSV\n",
    "\n",
    "df= pd.read_csv('Parsed_Names.csv')"
   ]
  },
  {
   "cell_type": "code",
   "execution_count": 11,
   "metadata": {},
   "outputs": [
    {
     "name": "stdout",
     "output_type": "stream",
     "text": [
      "Names with no results: 549\n"
     ]
    },
    {
     "data": {
      "text/html": [
       "<div>\n",
       "<style scoped>\n",
       "    .dataframe tbody tr th:only-of-type {\n",
       "        vertical-align: middle;\n",
       "    }\n",
       "\n",
       "    .dataframe tbody tr th {\n",
       "        vertical-align: top;\n",
       "    }\n",
       "\n",
       "    .dataframe thead th {\n",
       "        text-align: right;\n",
       "    }\n",
       "</style>\n",
       "<table border=\"1\" class=\"dataframe\">\n",
       "  <thead>\n",
       "    <tr style=\"text-align: right;\">\n",
       "      <th></th>\n",
       "      <th>full_name</th>\n",
       "      <th>first_name</th>\n",
       "      <th>last_name</th>\n",
       "      <th>pctwhite</th>\n",
       "      <th>pctblack</th>\n",
       "      <th>pctapi</th>\n",
       "      <th>pctaian</th>\n",
       "      <th>pct2prace</th>\n",
       "      <th>pcthispanic</th>\n",
       "    </tr>\n",
       "  </thead>\n",
       "  <tbody>\n",
       "    <tr>\n",
       "      <th>0</th>\n",
       "      <td>Huey Muschette</td>\n",
       "      <td>Huey</td>\n",
       "      <td>Muschette</td>\n",
       "      <td>0.01</td>\n",
       "      <td>94.74</td>\n",
       "      <td>0</td>\n",
       "      <td>0</td>\n",
       "      <td>3.07</td>\n",
       "      <td>0.01</td>\n",
       "    </tr>\n",
       "    <tr>\n",
       "      <th>1</th>\n",
       "      <td>Corny Seal</td>\n",
       "      <td>Corny</td>\n",
       "      <td>Seal</td>\n",
       "      <td>91.04</td>\n",
       "      <td>2.25</td>\n",
       "      <td>2.08</td>\n",
       "      <td>0.88</td>\n",
       "      <td>1.67</td>\n",
       "      <td>2.07</td>\n",
       "    </tr>\n",
       "    <tr>\n",
       "      <th>4</th>\n",
       "      <td>Aigneis Vanetti</td>\n",
       "      <td>Aigneis</td>\n",
       "      <td>Vanetti</td>\n",
       "      <td>97.27</td>\n",
       "      <td>0.01</td>\n",
       "      <td>0</td>\n",
       "      <td>0</td>\n",
       "      <td>0</td>\n",
       "      <td>0.01</td>\n",
       "    </tr>\n",
       "    <tr>\n",
       "      <th>5</th>\n",
       "      <td>Blondelle Casement</td>\n",
       "      <td>Blondelle</td>\n",
       "      <td>Casement</td>\n",
       "      <td>95.76</td>\n",
       "      <td>0</td>\n",
       "      <td>0.01</td>\n",
       "      <td>0.01</td>\n",
       "      <td>2.12</td>\n",
       "      <td>0.01</td>\n",
       "    </tr>\n",
       "    <tr>\n",
       "      <th>6</th>\n",
       "      <td>Gibb Weeks</td>\n",
       "      <td>Gibb</td>\n",
       "      <td>Weeks</td>\n",
       "      <td>84.38</td>\n",
       "      <td>9.97</td>\n",
       "      <td>0.55</td>\n",
       "      <td>0.84</td>\n",
       "      <td>1.81</td>\n",
       "      <td>2.45</td>\n",
       "    </tr>\n",
       "  </tbody>\n",
       "</table>\n",
       "</div>"
      ],
      "text/plain": [
       "            full_name first_name  last_name pctwhite pctblack pctapi pctaian  \\\n",
       "0      Huey Muschette       Huey  Muschette     0.01    94.74      0       0   \n",
       "1          Corny Seal      Corny       Seal    91.04     2.25   2.08    0.88   \n",
       "4     Aigneis Vanetti    Aigneis    Vanetti    97.27     0.01      0       0   \n",
       "5  Blondelle Casement  Blondelle   Casement    95.76        0   0.01    0.01   \n",
       "6          Gibb Weeks       Gibb      Weeks    84.38     9.97   0.55    0.84   \n",
       "\n",
       "  pct2prace pcthispanic  \n",
       "0      3.07        0.01  \n",
       "1      1.67        2.07  \n",
       "4         0        0.01  \n",
       "5      2.12        0.01  \n",
       "6      1.81        2.45  "
      ]
     },
     "execution_count": 11,
     "metadata": {},
     "output_type": "execute_result"
    }
   ],
   "source": [
    "# Perform race detection using 2010 census data \n",
    "df = census_ln(df, 'last_name',2010)\n",
    "\n",
    "# Calculate number of undetectable last names\n",
    "count_nan = len(df) - df.count()\n",
    "num_unknowns = count_nan[3] # Note that the index can be 3-8 since they will return the same number\n",
    "print(\"Names with no results:\",num_unknowns) \n",
    "\n",
    "# Rows with unknown races are dropped\n",
    "df = df.dropna() \n",
    "\n",
    "# Replace S for insignificant value. (0 isn't used since we cant divide by 0)\n",
    "# S is part of ethnicolors internal return values\n",
    "df = df.replace(['(S)'], 0.01)\n",
    "\n",
    "# Display Results of Ethnicolor \n",
    "df.head()"
   ]
  },
  {
   "cell_type": "markdown",
   "metadata": {},
   "source": [
    "## Calculate Race"
   ]
  },
  {
   "cell_type": "code",
   "execution_count": 12,
   "metadata": {},
   "outputs": [],
   "source": [
    "# Find which is the highest percentage for each last name\n",
    "def to_race(c):\n",
    "    w = np.array(c).astype(float)\n",
    "    probs = w/w.sum() \n",
    "    return choice(races, p=probs)\n",
    "\n",
    "# Create rows for races\n",
    "races = ['white', 'black', 'api', 'hispanic']\n",
    "\n",
    "# Calculate Race using function\n",
    "df['race'] = df[['pctwhite', 'pctblack', 'pctapi', 'pcthispanic']].apply(lambda c: to_race(c), axis=1)\n"
   ]
  },
  {
   "cell_type": "markdown",
   "metadata": {},
   "source": [
    "## Results:"
   ]
  },
  {
   "cell_type": "code",
   "execution_count": 13,
   "metadata": {
    "scrolled": true
   },
   "outputs": [
    {
     "data": {
      "image/png": "[encoded data removed]",
      "text/plain": [
       "<Figure size 504x504 with 1 Axes>"
      ]
     },
     "metadata": {},
     "output_type": "display_data"
    },
    {
     "name": "stdout",
     "output_type": "stream",
     "text": [
      "          count\n",
      "race           \n",
      "asian         9\n",
      "black        44\n",
      "hispanic     23\n",
      "white       375\n",
      "unknown     549\n"
     ]
    }
   ],
   "source": [
    "# Count\n",
    "df['last_name'] = df.full_name.str.title()\n",
    "df2 = df.groupby('race').agg({'last_name': 'count'})\n",
    "df2.rename(columns={'last_name': 'count'},inplace = True)\n",
    "df2.rename({'api': 'asian'},inplace = True)\n",
    "df2.loc[\"unknown\"] = [num_unknowns]\n",
    "\n",
    "# Percentages\n",
    "df3 = (100. * df2 / df2.sum())\n",
    "df3.rename(columns={'count': 'percentages'},inplace = True)\n",
    "\n",
    "# Plot Pie Chart\n",
    "df4 = DataFrame(df2, columns = ['count'],index = ['asian','black','hispanic','white','unknown'])\n",
    "df4.plot.pie(y='count',figsize=(7, 7),autopct='%1.1f%%', startangle=90,)\n",
    "plt.title('Race Distribution')\n",
    "plt.show()\n",
    "print(df2)"
   ]
  },
  {
   "cell_type": "code",
   "execution_count": null,
   "metadata": {},
   "outputs": [],
   "source": []
  }
 ],
 "metadata": {
  "kernelspec": {
   "display_name": "SSI_DNI",
   "language": "python",
   "name": "ssi_dni"
  },
  "language_info": {
   "codemirror_mode": {
    "name": "ipython",
    "version": 3
   },
   "file_extension": ".py",
   "mimetype": "text/x-python",
   "name": "python",
   "nbconvert_exporter": "python",
   "pygments_lexer": "ipython3",
   "version": "3.7.7"
  }
 },
 "nbformat": 4,
 "nbformat_minor": 4
}
